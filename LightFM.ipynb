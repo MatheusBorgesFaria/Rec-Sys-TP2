{
 "cells": [
  {
   "cell_type": "code",
   "execution_count": 4,
   "metadata": {},
   "outputs": [
    {
     "name": "stdout",
     "output_type": "stream",
     "text": [
      "Python 3.9.21\n"
     ]
    }
   ],
   "source": [
    "!python --version"
   ]
  },
  {
   "cell_type": "code",
   "execution_count": 1,
   "metadata": {},
   "outputs": [
    {
     "ename": "KeyboardInterrupt",
     "evalue": "",
     "output_type": "error",
     "traceback": [
      "\u001b[1;31m---------------------------------------------------------------------------\u001b[0m",
      "\u001b[1;31mKeyboardInterrupt\u001b[0m                         Traceback (most recent call last)",
      "Cell \u001b[1;32mIn[1], line 1\u001b[0m\n\u001b[1;32m----> 1\u001b[0m \u001b[38;5;28;01mimport\u001b[39;00m \u001b[38;5;21;01mpandas\u001b[39;00m \u001b[38;5;28;01mas\u001b[39;00m \u001b[38;5;21;01mpd\u001b[39;00m\n\u001b[0;32m      3\u001b[0m \u001b[38;5;66;03m# Load ratings data\u001b[39;00m\n\u001b[0;32m      4\u001b[0m ratings \u001b[38;5;241m=\u001b[39m pd\u001b[38;5;241m.\u001b[39mread_json(\u001b[38;5;124m'\u001b[39m\u001b[38;5;124mdata/ratings.jsonl\u001b[39m\u001b[38;5;124m'\u001b[39m, lines\u001b[38;5;241m=\u001b[39m\u001b[38;5;28;01mTrue\u001b[39;00m)\n",
      "File \u001b[1;32md:\\miniconda\\lib\\site-packages\\pandas\\__init__.py:45\u001b[0m\n\u001b[0;32m     43\u001b[0m \u001b[38;5;28;01mfor\u001b[39;00m _dependency \u001b[38;5;129;01min\u001b[39;00m _hard_dependencies:\n\u001b[0;32m     44\u001b[0m     \u001b[38;5;28;01mtry\u001b[39;00m:\n\u001b[1;32m---> 45\u001b[0m         \u001b[38;5;28;43m__import__\u001b[39;49m\u001b[43m(\u001b[49m\u001b[43m_dependency\u001b[49m\u001b[43m)\u001b[49m\n\u001b[0;32m     46\u001b[0m     \u001b[38;5;28;01mexcept\u001b[39;00m \u001b[38;5;167;01mImportError\u001b[39;00m \u001b[38;5;28;01mas\u001b[39;00m _e:  \u001b[38;5;66;03m# pragma: no cover\u001b[39;00m\n\u001b[0;32m     47\u001b[0m         _missing_dependencies\u001b[38;5;241m.\u001b[39mappend(\u001b[38;5;124mf\u001b[39m\u001b[38;5;124m\"\u001b[39m\u001b[38;5;132;01m{\u001b[39;00m_dependency\u001b[38;5;132;01m}\u001b[39;00m\u001b[38;5;124m: \u001b[39m\u001b[38;5;132;01m{\u001b[39;00m_e\u001b[38;5;132;01m}\u001b[39;00m\u001b[38;5;124m\"\u001b[39m)\n",
      "File \u001b[1;32md:\\miniconda\\lib\\site-packages\\numpy\\__init__.py:374\u001b[0m\n\u001b[0;32m    367\u001b[0m         msg \u001b[38;5;241m=\u001b[39m (\u001b[38;5;124m\"\u001b[39m\u001b[38;5;124mThe current Numpy installation (\u001b[39m\u001b[38;5;132;01m{!r}\u001b[39;00m\u001b[38;5;124m) fails to \u001b[39m\u001b[38;5;124m\"\u001b[39m\n\u001b[0;32m    368\u001b[0m                \u001b[38;5;124m\"\u001b[39m\u001b[38;5;124mpass simple sanity checks. This can be caused for example \u001b[39m\u001b[38;5;124m\"\u001b[39m\n\u001b[0;32m    369\u001b[0m                \u001b[38;5;124m\"\u001b[39m\u001b[38;5;124mby incorrect BLAS library being linked in, or by mixing \u001b[39m\u001b[38;5;124m\"\u001b[39m\n\u001b[0;32m    370\u001b[0m                \u001b[38;5;124m\"\u001b[39m\u001b[38;5;124mpackage managers (pip, conda, apt, ...). Search closed \u001b[39m\u001b[38;5;124m\"\u001b[39m\n\u001b[0;32m    371\u001b[0m                \u001b[38;5;124m\"\u001b[39m\u001b[38;5;124mnumpy issues for similar problems.\u001b[39m\u001b[38;5;124m\"\u001b[39m)\n\u001b[0;32m    372\u001b[0m         \u001b[38;5;28;01mraise\u001b[39;00m \u001b[38;5;167;01mRuntimeError\u001b[39;00m(msg\u001b[38;5;241m.\u001b[39mformat(\u001b[38;5;18m__file__\u001b[39m)) \u001b[38;5;28;01mfrom\u001b[39;00m \u001b[38;5;28;01mNone\u001b[39;00m\n\u001b[1;32m--> 374\u001b[0m \u001b[43m_sanity_check\u001b[49m\u001b[43m(\u001b[49m\u001b[43m)\u001b[49m\n\u001b[0;32m    375\u001b[0m \u001b[38;5;28;01mdel\u001b[39;00m _sanity_check\n\u001b[0;32m    377\u001b[0m \u001b[38;5;28;01mdef\u001b[39;00m \u001b[38;5;21m_mac_os_check\u001b[39m():\n",
      "File \u001b[1;32md:\\miniconda\\lib\\site-packages\\numpy\\__init__.py:364\u001b[0m, in \u001b[0;36m_sanity_check\u001b[1;34m()\u001b[0m\n\u001b[0;32m    362\u001b[0m \u001b[38;5;28;01mtry\u001b[39;00m:\n\u001b[0;32m    363\u001b[0m     x \u001b[38;5;241m=\u001b[39m ones(\u001b[38;5;241m2\u001b[39m, dtype\u001b[38;5;241m=\u001b[39mfloat32)\n\u001b[1;32m--> 364\u001b[0m     \u001b[38;5;28;01mif\u001b[39;00m \u001b[38;5;129;01mnot\u001b[39;00m \u001b[38;5;28mabs\u001b[39m(\u001b[43mx\u001b[49m\u001b[38;5;241;43m.\u001b[39;49m\u001b[43mdot\u001b[49m\u001b[43m(\u001b[49m\u001b[43mx\u001b[49m\u001b[43m)\u001b[49m \u001b[38;5;241m-\u001b[39m float32(\u001b[38;5;241m2.0\u001b[39m)) \u001b[38;5;241m<\u001b[39m \u001b[38;5;241m1e-5\u001b[39m:\n\u001b[0;32m    365\u001b[0m         \u001b[38;5;28;01mraise\u001b[39;00m \u001b[38;5;167;01mAssertionError\u001b[39;00m()\n\u001b[0;32m    366\u001b[0m \u001b[38;5;28;01mexcept\u001b[39;00m \u001b[38;5;167;01mAssertionError\u001b[39;00m:\n",
      "\u001b[1;31mKeyboardInterrupt\u001b[0m: "
     ]
    }
   ],
   "source": [
    "import pandas as pd\n",
    "\n",
    "# Load ratings data\n",
    "ratings = pd.read_json('data/ratings.jsonl', lines=True)\n",
    "\n",
    "# Load content data (item features such as genres and year)\n",
    "content = pd.read_json('data/content.jsonl', lines=True)\n",
    "\n",
    "# Display a sample of the data\n",
    "print(ratings.head())\n",
    "print(content.head())\n"
   ]
  },
  {
   "cell_type": "code",
   "execution_count": 6,
   "metadata": {},
   "outputs": [
    {
     "name": "stdout",
     "output_type": "stream",
     "text": [
      "[('c9f0f895fb', 'Documentary'), ('c9f0f895fb', 'Short'), ('c9f0f895fb', '1894.0'), ('d3d9446802', 'Documentary'), ('d3d9446802', 'Short')]\n"
     ]
    }
   ],
   "source": [
    "# Preprocess content features\n",
    "content['Year'] = pd.to_numeric(content['Year'], errors='coerce')  # Ensure year is numeric\n",
    "\n",
    "# Flatten item features into (item_id, feature_name) format\n",
    "item_features_data = [\n",
    "    (row['ItemId'], feature)\n",
    "    for _, row in content.iterrows()\n",
    "    for feature in (row['Genre'].split(', ') + [str(row['Year'])])  # Combine genre and year as features\n",
    "]\n",
    "\n",
    "# Check the format of item features data\n",
    "print(item_features_data[:5])  # Display first 5 items with features\n",
    "\n"
   ]
  },
  {
   "cell_type": "code",
   "execution_count": 7,
   "metadata": {},
   "outputs": [
    {
     "name": "stdout",
     "output_type": "stream",
     "text": [
      "Total unique features: 156\n",
      "['2020.0', '1976.0', '2015.0', 'Family', '1993.0', '1965.0', '1974.0', '1983.0', '1995.0', '2009.0']\n"
     ]
    }
   ],
   "source": [
    "# Collect all unique features from the content data\n",
    "all_features = set()\n",
    "for _, row in content.iterrows():\n",
    "    # Add genres and year as features\n",
    "    features = row['Genre'].split(', ') + [str(row['Year'])]\n",
    "    all_features.update(features)\n",
    "\n",
    "# Convert to a list\n",
    "all_features = list(all_features)\n",
    "\n",
    "print(f\"Total unique features: {len(all_features)}\")\n",
    "print(all_features[:10])  # Display a sample\n"
   ]
  },
  {
   "cell_type": "code",
   "execution_count": 8,
   "metadata": {},
   "outputs": [
    {
     "name": "stderr",
     "output_type": "stream",
     "text": [
      "d:\\miniconda\\lib\\site-packages\\lightfm\\_lightfm_fast.py:9: UserWarning: LightFM was compiled without OpenMP support. Only a single thread will be used.\n",
      "  warnings.warn(\n"
     ]
    }
   ],
   "source": [
    "from lightfm.data import Dataset\n",
    "\n",
    "# Initialize the dataset\n",
    "dataset = Dataset()\n",
    "\n",
    "# Include all unique item IDs from both ratings and content datasets\n",
    "all_item_ids = set(ratings['ItemId'].unique()).union(content['ItemId'].unique())\n",
    "\n",
    "# Fit the dataset with all user and item IDs\n",
    "dataset.fit(users=ratings['UserId'].unique(),\n",
    "            items=list(all_item_ids),\n",
    "            item_features=all_features)\n",
    "\n",
    "\n"
   ]
  },
  {
   "cell_type": "code",
   "execution_count": 9,
   "metadata": {},
   "outputs": [
    {
     "name": "stdout",
     "output_type": "stream",
     "text": [
      "Item features matrix shape: (38012, 38168)\n"
     ]
    }
   ],
   "source": [
    "# Build item features matrix\n",
    "item_features_data = [\n",
    "    (row['ItemId'], row['Genre'].split(', ') + [str(row['Year'])])\n",
    "    for _, row in content.iterrows()\n",
    "]\n",
    "\n",
    "item_features_matrix = dataset.build_item_features(item_features_data, normalize=True)\n",
    "\n",
    "# Check the shape of the matrix\n",
    "print(f\"Item features matrix shape: {item_features_matrix.shape}\")\n"
   ]
  },
  {
   "cell_type": "code",
   "execution_count": 10,
   "metadata": {},
   "outputs": [
    {
     "data": {
      "text/plain": [
       "<38012x38168 sparse matrix of type '<class 'numpy.float32'>'\n",
       "\twith 160606 stored elements in Compressed Sparse Row format>"
      ]
     },
     "execution_count": 10,
     "metadata": {},
     "output_type": "execute_result"
    }
   ],
   "source": [
    "item_features_matrix"
   ]
  },
  {
   "cell_type": "code",
   "execution_count": 11,
   "metadata": {},
   "outputs": [],
   "source": [
    "from lightfm import LightFM\n",
    "\n",
    "# Build interactions matrix from ratings data\n",
    "(interactions, _) = dataset.build_interactions(\n",
    "    [(row['UserId'], row['ItemId'], row['Rating']) for _, row in ratings.iterrows()]\n",
    ")"
   ]
  },
  {
   "cell_type": "code",
   "execution_count": 12,
   "metadata": {},
   "outputs": [
    {
     "data": {
      "text/plain": [
       "4"
      ]
     },
     "execution_count": 12,
     "metadata": {},
     "output_type": "execute_result"
    },
    {
     "ename": "",
     "evalue": "",
     "output_type": "error",
     "traceback": [
      "\u001b[1;31mThe Kernel crashed while executing code in the current cell or a previous cell. \n",
      "\u001b[1;31mPlease review the code in the cell(s) to identify a possible cause of the failure. \n",
      "\u001b[1;31mClick <a href='https://aka.ms/vscodeJupyterKernelCrash'>here</a> for more info. \n",
      "\u001b[1;31mView Jupyter <a href='command:jupyter.viewOutput'>log</a> for further details."
     ]
    }
   ],
   "source": [
    "import os\n",
    "\n",
    "os.cpu_count()"
   ]
  },
  {
   "cell_type": "code",
   "execution_count": null,
   "metadata": {},
   "outputs": [
    {
     "name": "stderr",
     "output_type": "stream",
     "text": [
      "Epoch:   0%|          | 0/10 [00:00<?, ?it/s]"
     ]
    }
   ],
   "source": [
    "from tqdm import tqdm  # For a progress bar\n",
    "\n",
    "# Initialize the LightFM model\n",
    "model = LightFM(loss='warp')\n",
    "\n",
    "model.fit(interactions, item_features=item_features_matrix, epochs=10, num_threads=os.cpu_count(), verbose=True)\n",
    "print(f\"Epoch {epoch + 1}/{num_epochs} completed.\")\n",
    "    \n",
    "print(\"Model training completed.\")"
   ]
  }
 ],
 "metadata": {
  "kernelspec": {
   "display_name": "base",
   "language": "python",
   "name": "python3"
  },
  "language_info": {
   "codemirror_mode": {
    "name": "ipython",
    "version": 3
   },
   "file_extension": ".py",
   "mimetype": "text/x-python",
   "name": "python",
   "nbconvert_exporter": "python",
   "pygments_lexer": "ipython3",
   "version": "3.9.21"
  }
 },
 "nbformat": 4,
 "nbformat_minor": 2
}
