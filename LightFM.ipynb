{
 "cells": [
  {
   "cell_type": "code",
   "execution_count": 2,
   "metadata": {},
   "outputs": [
    {
     "name": "stdout",
     "output_type": "stream",
     "text": [
      "Python 3.9.21\n"
     ]
    }
   ],
   "source": [
    "!python --version"
   ]
  },
  {
   "cell_type": "code",
   "execution_count": 3,
   "metadata": {},
   "outputs": [
    {
     "name": "stdout",
     "output_type": "stream",
     "text": [
      "       UserId      ItemId           Timestamp  Rating\n",
      "0  c4ca4238a0  91766eac45 2013-10-05 22:00:50       8\n",
      "1  c81e728d9d  5c739554f7 2013-08-17 16:26:38       9\n",
      "2  c81e728d9d  48f6d7ce7c 2013-08-17 13:28:27       8\n",
      "3  c81e728d9d  e9318d627a 2013-06-15 15:38:09       1\n",
      "4  a87ff679a2  17e6357973 2014-01-31 23:27:59       8\n",
      "       ItemId                                          Title  Year      Rated  \\\n",
      "0  c9f0f895fb         Edison Kinetoscopic Record of a Sneeze  1894        N/A   \n",
      "1  d3d9446802                            Leaving the Factory  1895  Not Rated   \n",
      "2  c20ad4d76f                         The Arrival of a Train  1896  Not Rated   \n",
      "3  8e296a067a  The Oxford and Cambridge University Boat Race  1895        N/A   \n",
      "4  54229abfcf                         The House of the Devil  1896  Not Rated   \n",
      "\n",
      "      Released Runtime               Genre                        Director  \\\n",
      "0  09 Jan 1894   1 min  Documentary, Short            William K.L. Dickson   \n",
      "1  22 Mar 1895   1 min  Documentary, Short                   Louis Lumière   \n",
      "2  25 Jan 1896   1 min  Documentary, Short  Auguste Lumière, Louis Lumière   \n",
      "3          N/A     N/A  Short, News, Sport                      Birt Acres   \n",
      "4  24 Dec 1896   3 min       Short, Horror                  Georges Méliès   \n",
      "\n",
      "           Writer                                             Actors  ...  \\\n",
      "0             N/A                                           Fred Ott  ...   \n",
      "1             N/A                                                N/A  ...   \n",
      "2             N/A  Madeleine Koehler, Marcel Koehler, Mrs. August...  ...   \n",
      "3             N/A                                                N/A  ...   \n",
      "4  Georges Méliès  Jehanne d'Alcy, Jules-Eugène Legris, Georges M...  ...   \n",
      "\n",
      "    Type  DVD BoxOffice Production Website Response totalSeasons Season  \\\n",
      "0  movie  N/A       N/A        N/A     N/A     True          NaN    NaN   \n",
      "1  movie  N/A       N/A        N/A     N/A     True          NaN    NaN   \n",
      "2  movie  N/A       N/A        N/A     N/A     True          NaN    NaN   \n",
      "3  movie  N/A       N/A        N/A     N/A     True          NaN    NaN   \n",
      "4  movie  N/A       N/A        N/A     N/A     True          NaN    NaN   \n",
      "\n",
      "  Episode seriesID  \n",
      "0     NaN      NaN  \n",
      "1     NaN      NaN  \n",
      "2     NaN      NaN  \n",
      "3     NaN      NaN  \n",
      "4     NaN      NaN  \n",
      "\n",
      "[5 rows x 29 columns]\n"
     ]
    }
   ],
   "source": [
    "import pandas as pd\n",
    "\n",
    "# Load ratings data\n",
    "ratings = pd.read_json('data/ratings.jsonl', lines=True)\n",
    "\n",
    "# Load content data (item features such as genres and year)\n",
    "content = pd.read_json('data/content.jsonl', lines=True)\n",
    "\n",
    "# Display a sample of the data\n",
    "print(ratings.head())\n",
    "print(content.head())\n"
   ]
  },
  {
   "cell_type": "code",
   "execution_count": 4,
   "metadata": {},
   "outputs": [
    {
     "name": "stdout",
     "output_type": "stream",
     "text": [
      "[('c9f0f895fb', 'Documentary'), ('c9f0f895fb', 'Short'), ('c9f0f895fb', '1894.0'), ('d3d9446802', 'Documentary'), ('d3d9446802', 'Short')]\n"
     ]
    }
   ],
   "source": [
    "# Preprocess content features\n",
    "content['Year'] = pd.to_numeric(content['Year'], errors='coerce')  # Ensure year is numeric\n",
    "\n",
    "# Flatten item features into (item_id, feature_name) format\n",
    "item_features_data = [\n",
    "    (row['ItemId'], feature)\n",
    "    for _, row in content.iterrows()\n",
    "    for feature in (row['Genre'].split(', ') + [str(row['Year'])])  # Combine genre and year as features\n",
    "]\n",
    "\n",
    "# Check the format of item features data\n",
    "print(item_features_data[:5])  # Display first 5 items with features\n",
    "\n"
   ]
  },
  {
   "cell_type": "code",
   "execution_count": 5,
   "metadata": {},
   "outputs": [
    {
     "name": "stdout",
     "output_type": "stream",
     "text": [
      "Total unique features: 156\n",
      "['1962.0', '1954.0', 'Drama', '1966.0', '1926.0', 'Crime', 'Talk-Show', '2007.0', '2012.0', '1913.0']\n"
     ]
    }
   ],
   "source": [
    "# Collect all unique features from the content data\n",
    "all_features = set()\n",
    "for _, row in content.iterrows():\n",
    "    # Add genres and year as features\n",
    "    features = row['Genre'].split(', ') + [str(row['Year'])]\n",
    "    all_features.update(features)\n",
    "\n",
    "# Convert to a list\n",
    "all_features = list(all_features)\n",
    "\n",
    "print(f\"Total unique features: {len(all_features)}\")\n",
    "print(all_features[:10])  # Display a sample\n"
   ]
  },
  {
   "cell_type": "code",
   "execution_count": 6,
   "metadata": {},
   "outputs": [
    {
     "name": "stderr",
     "output_type": "stream",
     "text": [
      "d:\\miniconda\\lib\\site-packages\\lightfm\\_lightfm_fast.py:9: UserWarning: LightFM was compiled without OpenMP support. Only a single thread will be used.\n",
      "  warnings.warn(\n"
     ]
    }
   ],
   "source": [
    "from lightfm.data import Dataset\n",
    "\n",
    "# Initialize the dataset\n",
    "dataset = Dataset()\n",
    "\n",
    "# Include all unique item IDs from both ratings and content datasets\n",
    "all_item_ids = set(ratings['ItemId'].unique()).union(content['ItemId'].unique())\n",
    "\n",
    "# Fit the dataset with all user and item IDs\n",
    "dataset.fit(users=ratings['UserId'].unique(),\n",
    "            items=list(all_item_ids),\n",
    "            item_features=all_features)\n",
    "\n",
    "\n"
   ]
  },
  {
   "cell_type": "code",
   "execution_count": 7,
   "metadata": {},
   "outputs": [
    {
     "name": "stdout",
     "output_type": "stream",
     "text": [
      "Item features matrix shape: (38012, 38168)\n"
     ]
    }
   ],
   "source": [
    "# Build item features matrix\n",
    "item_features_data = [\n",
    "    (row['ItemId'], row['Genre'].split(', ') + [str(row['Year'])])\n",
    "    for _, row in content.iterrows()\n",
    "]\n",
    "\n",
    "item_features_matrix = dataset.build_item_features(item_features_data, normalize=True)\n",
    "\n",
    "# Check the shape of the matrix\n",
    "print(f\"Item features matrix shape: {item_features_matrix.shape}\")\n"
   ]
  },
  {
   "cell_type": "code",
   "execution_count": 8,
   "metadata": {},
   "outputs": [
    {
     "data": {
      "text/plain": [
       "<38012x38168 sparse matrix of type '<class 'numpy.float32'>'\n",
       "\twith 160606 stored elements in Compressed Sparse Row format>"
      ]
     },
     "execution_count": 8,
     "metadata": {},
     "output_type": "execute_result"
    }
   ],
   "source": [
    "item_features_matrix"
   ]
  },
  {
   "cell_type": "code",
   "execution_count": 9,
   "metadata": {},
   "outputs": [
    {
     "ename": "",
     "evalue": "",
     "output_type": "error",
     "traceback": [
      "\u001b[1;31mThe Kernel crashed while executing code in the current cell or a previous cell. \n",
      "\u001b[1;31mPlease review the code in the cell(s) to identify a possible cause of the failure. \n",
      "\u001b[1;31mClick <a href='https://aka.ms/vscodeJupyterKernelCrash'>here</a> for more info. \n",
      "\u001b[1;31mView Jupyter <a href='command:jupyter.viewOutput'>log</a> for further details."
     ]
    }
   ],
   "source": [
    "from lightfm import LightFM\n",
    "\n",
    "# Build interactions matrix from ratings data\n",
    "(interactions, _) = dataset.build_interactions(\n",
    "    [(row['UserId'], row['ItemId'], row['Rating']) for _, row in ratings.iterrows()]\n",
    ")"
   ]
  },
  {
   "cell_type": "code",
   "execution_count": null,
   "metadata": {},
   "outputs": [
    {
     "name": "stderr",
     "output_type": "stream",
     "text": [
      "Epoch:   0%|          | 0/10 [00:00<?, ?it/s]"
     ]
    }
   ],
   "source": [
    "from tqdm import tqdm  # For a progress bar\n",
    "\n",
    "# Initialize the LightFM model\n",
    "model = LightFM(loss='warp')\n",
    "\n",
    "model.fit_partial(interactions, item_features=item_features_matrix, epochs=10, num_threads=1, verbose=True)\n",
    "print(f\"Epoch {epoch + 1}/{num_epochs} completed.\")\n",
    "    \n",
    "print(\"Model training completed.\")"
   ]
  }
 ],
 "metadata": {
  "kernelspec": {
   "display_name": "base",
   "language": "python",
   "name": "python3"
  },
  "language_info": {
   "codemirror_mode": {
    "name": "ipython",
    "version": 3
   },
   "file_extension": ".py",
   "mimetype": "text/x-python",
   "name": "python",
   "nbconvert_exporter": "python",
   "pygments_lexer": "ipython3",
   "version": "3.9.21"
  }
 },
 "nbformat": 4,
 "nbformat_minor": 2
}
