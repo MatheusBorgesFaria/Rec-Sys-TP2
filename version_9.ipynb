{
 "cells": [
  {
   "cell_type": "code",
   "execution_count": null,
   "metadata": {},
   "outputs": [
    {
     "ename": "",
     "evalue": "",
     "output_type": "error",
     "traceback": [
      "\u001b[1;31mRunning cells with '.conda (Python 3.9.21)' requires the ipykernel package.\n",
      "\u001b[1;31mRun the following command to install 'ipykernel' into the Python environment. \n",
      "\u001b[1;31mCommand: 'conda install -n .conda ipykernel --update-deps --force-reinstall'"
     ]
    }
   ],
   "source": [
    "import json\n",
    "import pandas as pd\n",
    "import matplotlib as plt\n",
    "\n",
    "# Step 1: Load the JSONL file containing movie data\n",
    "with open('data/content.jsonl', 'r') as f:\n",
    "    movies_data = [json.loads(line) for line in f]\n",
    "\n",
    "# Step 2: Load the CSV file containing user ratings\n",
    "df = pd.read_csv('submissoes/lightfm_versao_2_puro.csv')\n",
    "# Normalize the Rating column\n",
    "#df[\"Rating\"] = df[\"Rating\"].apply(lambda x: min(x, 10))\n",
    "print(df.head())\n",
    "\n",
    "# Step 3: Create a dictionary of imdbRatings from the movies data\n",
    "imdbRatings = {movie['ItemId']: movie['imdbRating'] for movie in movies_data}\n",
    "metascore = {movie['ItemId']: movie['Metascore'] for movie in movies_data}\n",
    "imdbVotes = {movie['ItemId']: movie['imdbVotes'] for movie in movies_data}\n",
    "boxOffice = {}\n",
    "\n",
    "for movie in movies_data:\n",
    "    item_id = movie['ItemId']\n",
    "    box_office = movie.get('BoxOffice', 'N/A')\n",
    "    if box_office == 'N/A':\n",
    "        box_office = 0  # Replace 'N/A' with 0\n",
    "    else:\n",
    "        # Remove any non-numeric characters like \"$\" and commas, then convert to an integer\n",
    "        box_office = int(''.join(c for c in box_office if c.isdigit()))\n",
    "    boxOffice[item_id] = box_office\n"
   ]
  },
  {
   "cell_type": "code",
   "execution_count": null,
   "metadata": {},
   "outputs": [],
   "source": [
    "imdbRatings"
   ]
  },
  {
   "cell_type": "code",
   "execution_count": null,
   "metadata": {},
   "outputs": [],
   "source": [
    "df[\"Rating\"] = df[\"Rating\"].apply(lambda x: max(x, -20))\n",
    "df['Rating'] = (df['Rating'] - df['Rating'].min()) / (df['Rating'].max() - df['Rating'].min()) * 10\n",
    "df['Rating'].hist()"
   ]
  },
  {
   "cell_type": "code",
   "execution_count": null,
   "metadata": {},
   "outputs": [],
   "source": [
    "df['imdbRating'] = df['ItemId'].map(imdbRatings)\n",
    "df[\"imdbRating\"] = pd.to_numeric(df[\"imdbRating\"], errors='coerce')\n",
    "df[\"imdbRating\"] = df[\"imdbRating\"].fillna(df['Rating'])\n",
    "df[\"imdbRating\"].hist()"
   ]
  },
  {
   "cell_type": "code",
   "execution_count": 59,
   "metadata": {},
   "outputs": [],
   "source": [
    "df['BoxOffice'] = df['ItemId'].map(boxOffice)\n",
    "df[\"BoxOffice\"] = df[\"BoxOffice\"].replace({\"$\": \"\", \",\": \"\"}, regex=True)\n",
    "df[\"BoxOffice\"] = pd.to_numeric(df[\"BoxOffice\"], errors='coerce')\n",
    "min_box_office = df['BoxOffice'].min()\n",
    "max_box_office = df['BoxOffice'].max()\n",
    "df['BoxOffice'] = (df['BoxOffice'] - min_box_office) / (max_box_office - min_box_office) * 10"
   ]
  },
  {
   "cell_type": "code",
   "execution_count": 60,
   "metadata": {},
   "outputs": [],
   "source": [
    "df['Metascore'] = df['ItemId'].map(metascore)\n",
    "df[\"Metascore\"] = pd.to_numeric(df[\"Metascore\"], errors='coerce')\n",
    "df[\"Metascore\"] = df[\"Metascore\"]/10\n",
    "df[\"Metascore\"] = df[\"Metascore\"].fillna(df['imdbRating'])"
   ]
  },
  {
   "cell_type": "code",
   "execution_count": 61,
   "metadata": {},
   "outputs": [],
   "source": [
    "df['imdbVotes'] = df['ItemId'].map(imdbVotes)\n",
    "df[\"imdbVotes\"] = pd.to_numeric(df[\"imdbVotes\"], errors='coerce')\n",
    "df[\"imdbVotes\"] = df[\"imdbVotes\"]/100"
   ]
  },
  {
   "cell_type": "code",
   "execution_count": null,
   "metadata": {},
   "outputs": [],
   "source": [
    "df[\"imdbVotes\"].hist()"
   ]
  },
  {
   "cell_type": "code",
   "execution_count": 63,
   "metadata": {},
   "outputs": [],
   "source": [
    "df['Score'] = (\n",
    "    0.3 * df[\"imdbRating\"] +\n",
    "    2.2 * df[\"BoxOffice\"] +\n",
    "    0.2 * df[\"Metascore\"] +\n",
    "    0.2 * df[\"Rating\"] + \n",
    "    0.1 * df[\"imdbVotes\"]\n",
    ")\n",
    "df['Score'] = df['Score'].fillna(0.3 * df[\"imdbRating\"] + 2.2 * df[\"BoxOffice\"] + 0.25 * df[\"Metascore\"] + 0.25 * df[\"Rating\"])"
   ]
  },
  {
   "cell_type": "code",
   "execution_count": null,
   "metadata": {},
   "outputs": [],
   "source": [
    "df['Score'].hist()"
   ]
  },
  {
   "cell_type": "code",
   "execution_count": 65,
   "metadata": {},
   "outputs": [],
   "source": [
    "df = df.sort_values(['UserId', 'Score'], ascending=[True, False])"
   ]
  },
  {
   "cell_type": "code",
   "execution_count": null,
   "metadata": {},
   "outputs": [],
   "source": [
    "df"
   ]
  },
  {
   "cell_type": "code",
   "execution_count": 67,
   "metadata": {},
   "outputs": [],
   "source": [
    "df = df.drop(columns=['Rating', 'imdbRating', 'Score', 'BoxOffice', 'Metascore', 'imdbVotes'])\n",
    "df.to_csv('Lightfm_average3.csv', index=False)"
   ]
  }
 ],
 "metadata": {
  "kernelspec": {
   "display_name": ".conda",
   "language": "python",
   "name": "python3"
  },
  "language_info": {
   "codemirror_mode": {
    "name": "ipython",
    "version": 3
   },
   "file_extension": ".py",
   "mimetype": "text/x-python",
   "name": "python",
   "nbconvert_exporter": "python",
   "pygments_lexer": "ipython3",
   "version": "3.9.21"
  }
 },
 "nbformat": 4,
 "nbformat_minor": 2
}
