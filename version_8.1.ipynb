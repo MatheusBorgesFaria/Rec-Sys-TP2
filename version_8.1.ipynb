{
 "cells": [
  {
   "cell_type": "markdown",
   "metadata": {},
   "source": [
    "# based-trees"
   ]
  },
  {
   "cell_type": "markdown",
   "metadata": {},
   "source": [
    "Ideias:\n",
    "- FEITO: Usar a coluna para no texto\n",
    "- FEITO: Limpar os dados de conteudo\n",
    "- FEITO (lucas): ordenar os itens novos que ficaram por ultimo por popularidade\n",
    "- FEITO: Adicionar o nome da coluna, porque vai indicar o assunto, em conjunto do texto\n",
    "\n",
    "- tunar os hiperparametros\n",
    "- usa a imagem alem do texto\n",
    "- usar algum algoritmo mais simples apenas para usuarios novos, knn para content based\n",
    "- Entender o parametro exclude_unknowns=True do RatioSplit e se tem alguma forma do DMRL gerar previsoes para itens e usuarios novos \n",
    "\n",
    "- paralelizar a previsao\n",
    "Perguntas:\n"
   ]
  },
  {
   "cell_type": "markdown",
   "metadata": {},
   "source": [
    "## Imports"
   ]
  },
  {
   "cell_type": "code",
   "execution_count": 1,
   "metadata": {},
   "outputs": [],
   "source": [
    "%load_ext autoreload\n",
    "%autoreload 2"
   ]
  },
  {
   "cell_type": "code",
   "execution_count": 2,
   "metadata": {},
   "outputs": [],
   "source": [
    "import os\n",
    "import numpy as np\n",
    "import pandas as pd\n",
    "from tqdm import tqdm\n",
    "from utils import load_data\n",
    "\n",
    "\n",
    "# pd.set_option('display.max_rows', None)\n",
    "pd.set_option('display.max_columns', None)\n",
    "np.set_printoptions(threshold=np.inf)"
   ]
  },
  {
   "cell_type": "markdown",
   "metadata": {},
   "source": [
    "## Load and process data"
   ]
  },
  {
   "cell_type": "markdown",
   "metadata": {},
   "source": [
    "### Load data"
   ]
  },
  {
   "cell_type": "code",
   "execution_count": 3,
   "metadata": {},
   "outputs": [],
   "source": [
    "ratings, content, targets = load_data()"
   ]
  },
  {
   "cell_type": "code",
   "execution_count": 4,
   "metadata": {},
   "outputs": [],
   "source": [
    "ratings[\"TimestampDate\"] = ratings['Timestamp'].dt.date\n",
    "ratings.loc[ratings.Rating == 0, \"Rating\"] = 0.01"
   ]
  },
  {
   "cell_type": "markdown",
   "metadata": {},
   "source": [
    "### Limpar os dados de conteudo\n",
    "\n",
    "- FEITO - Year: deletar o - no texto '2013–'\n",
    "- FEITO - Rated: alterar as diversas formas de escrever NA para NA. Esse e um caso especial\n",
    "- FEITO - alterar as diversas formas de escrever NA para None em todas as coluans\n",
    "- FEITO - Language: tem varias linhas que possuem bizarices como  'None, English' e 'None, French' , 'English, None'...\n",
    "- FEITO - Ratings: criar uma coluna para cada chave do dicionario, entender quais sao todas as chaves que existem\n",
    "\n",
    "-----------------------------------------------\n",
    "Variaveis que nao precisariam ser tratadas com um bert:\n",
    "- Metascore\n",
    "- imdbRating\n",
    "- Type"
   ]
  },
  {
   "cell_type": "code",
   "execution_count": 5,
   "metadata": {},
   "outputs": [],
   "source": [
    "content_auxiliar = content.drop(columns=[\"Poster\", \"Website\", \"Response\", \"Episode\", \"seriesID\", \"Season\"]).copy()"
   ]
  },
  {
   "cell_type": "code",
   "execution_count": 6,
   "metadata": {},
   "outputs": [],
   "source": [
    "content_auxiliar['Year'] = content_auxiliar['Year'].str.replace('–', '')"
   ]
  },
  {
   "cell_type": "code",
   "execution_count": 7,
   "metadata": {},
   "outputs": [],
   "source": [
    "nan = content.totalSeasons.unique()[0]\n",
    "dict_transform_to_na = {\n",
    "    \"Rated\":['N/A', 'Not Rated', 'Unrated', 'UNRATED', 'NOT RATED'],\n",
    "    \"all\": [nan, 'N/A', 'None', np.nan],\n",
    "}\n",
    "\n",
    "for na_value in dict_transform_to_na[\"all\"]:\n",
    "    content_auxiliar = content_auxiliar.replace(na_value, None)\n",
    "\n",
    "for na_value in dict_transform_to_na[\"Rated\"]:\n",
    "    content_auxiliar['Rated'] = content_auxiliar['Rated'].replace(na_value, None)"
   ]
  },
  {
   "cell_type": "code",
   "execution_count": 8,
   "metadata": {},
   "outputs": [],
   "source": [
    "content_auxiliar['Language'] = content_auxiliar['Language'].str.replace('None, ', '')\n",
    "content_auxiliar['Language'] = content_auxiliar['Language'].str.replace(', None', '')"
   ]
  },
  {
   "cell_type": "code",
   "execution_count": 9,
   "metadata": {},
   "outputs": [
    {
     "data": {
      "text/plain": [
       "{'Internet Movie Database', 'Metacritic', 'Rotten Tomatoes'}"
      ]
     },
     "execution_count": 9,
     "metadata": {},
     "output_type": "execute_result"
    }
   ],
   "source": [
    "# Entendendo os valores possiveis para a coluna Ratings\n",
    "# A coluna content_auxiliar.Ratings quarda uma lista que posde ter entre 0 e 3 dicionarios. Cada dicionario possui a chave 'Source', 'Value'.\n",
    "num_ratings_per_item = []\n",
    "unique_keys = []\n",
    "rating_sources = []\n",
    "rating_values = []\n",
    "\n",
    "for rating_list in content_auxiliar.Ratings:\n",
    "    num_ratings_per_item.append(len(rating_list))\n",
    "    for rating_dict in rating_list:\n",
    "        for key in rating_dict:\n",
    "            unique_keys.append(key)\n",
    "        rating_sources.append(rating_dict['Source'])\n",
    "        rating_values.append(rating_dict['Value'])\n",
    "\n",
    "set(rating_sources)"
   ]
  },
  {
   "cell_type": "code",
   "execution_count": 10,
   "metadata": {},
   "outputs": [],
   "source": [
    "InternetMovieDatabase_list = []\n",
    "Metacritic_list = []\n",
    "RottenTomatoes_list = []\n",
    "for rating_list in content_auxiliar.Ratings:\n",
    "    InternetMovieDatabase_list.append(None)\n",
    "    Metacritic_list.append(None)\n",
    "    RottenTomatoes_list.append(None)\n",
    "    for rating_dict in rating_list:\n",
    "        if rating_dict['Source'] == 'Internet Movie Database':\n",
    "            InternetMovieDatabase_list[-1] = rating_dict['Value']\n",
    "        elif rating_dict['Source'] == 'Metacritic':\n",
    "            Metacritic_list[-1] = rating_dict['Value']\n",
    "        elif rating_dict['Source'] == 'Rotten Tomatoes':\n",
    "            RottenTomatoes_list[-1] = rating_dict['Value']"
   ]
  },
  {
   "cell_type": "code",
   "execution_count": 11,
   "metadata": {},
   "outputs": [],
   "source": [
    "content_auxiliar['Internet Movie Database'] = InternetMovieDatabase_list\n",
    "content_auxiliar['Metacritic'] = Metacritic_list\n",
    "content_auxiliar['Rotten Tomatoes'] = RottenTomatoes_list\n"
   ]
  },
  {
   "cell_type": "code",
   "execution_count": 12,
   "metadata": {},
   "outputs": [],
   "source": [
    "content_auxiliar.drop(columns=['Ratings'], inplace=True)"
   ]
  },
  {
   "cell_type": "markdown",
   "metadata": {},
   "source": [
    "### Apendar a coluna no valor do dataframe"
   ]
  },
  {
   "cell_type": "code",
   "execution_count": 13,
   "metadata": {},
   "outputs": [],
   "source": [
    "# content_columns = content_auxiliar.columns.to_list()\n",
    "# content_columns.pop(0)"
   ]
  },
  {
   "cell_type": "code",
   "execution_count": 14,
   "metadata": {},
   "outputs": [],
   "source": [
    "# for column in content_columns:\n",
    "#     content_auxiliar[column] = content_auxiliar[column].apply(lambda x: f\"{column}: {x}; \" if x is not None else f\"{column}: unknown value; \")"
   ]
  },
  {
   "cell_type": "code",
   "execution_count": 15,
   "metadata": {},
   "outputs": [],
   "source": [
    "# content_processed = content_auxiliar[['ItemId']].copy()\n",
    "# content_processed[\"text\"] = content_auxiliar[content_columns].astype(str).fillna('').agg(' '.join, axis=1)"
   ]
  },
  {
   "cell_type": "markdown",
   "metadata": {},
   "source": [
    "### Viabiliza as colunas para um modelo tabular"
   ]
  },
  {
   "cell_type": "code",
   "execution_count": 16,
   "metadata": {},
   "outputs": [
    {
     "data": {
      "text/plain": [
       "0        5.5/10\n",
       "1        6.9/10\n",
       "2        7.5/10\n",
       "3        4.2/10\n",
       "4        6.7/10\n",
       "          ...  \n",
       "38007    6.2/10\n",
       "38008    6.3/10\n",
       "38009    7.2/10\n",
       "38010      None\n",
       "38011      None\n",
       "Name: Internet Movie Database, Length: 38012, dtype: object"
      ]
     },
     "execution_count": 16,
     "metadata": {},
     "output_type": "execute_result"
    }
   ],
   "source": [
    "content_auxiliar[\"Internet Movie Database\"]"
   ]
  },
  {
   "cell_type": "code",
   "execution_count": 17,
   "metadata": {},
   "outputs": [],
   "source": [
    "content_auxiliar[\"Internet Movie Database\"] = content_auxiliar[\"Internet Movie Database\"].str.split(\"/\").apply(lambda x: x[0] if x is not None else None)\n",
    "content_auxiliar[\"Rotten Tomatoes\"] = content_auxiliar[\"Rotten Tomatoes\"].str.replace('%', \"\", regex=True)\n",
    "content_auxiliar[\"Metacritic\"] = content_auxiliar[\"Metacritic\"].str.replace('/100', \"\", regex=True)\n",
    "content_auxiliar[\"imdbVotes\"] = content_auxiliar[\"imdbVotes\"].str.replace(',', \"\", regex=True)"
   ]
  },
  {
   "cell_type": "code",
   "execution_count": 18,
   "metadata": {},
   "outputs": [],
   "source": [
    "content_auxiliar[\"BoxOffice\"].replace(',', \"\", regex=True, inplace=True)\n",
    "\n",
    "# O metodo replace nao funcionnou para $, cuidado para nao rodar essa cedula 2 vezes\n",
    "content_auxiliar[\"BoxOffice\"] = content_auxiliar[\"BoxOffice\"].apply(lambda x: x[1:] if x is not None else None) # troca valores $ por \"\"\n"
   ]
  },
  {
   "cell_type": "code",
   "execution_count": 19,
   "metadata": {},
   "outputs": [],
   "source": [
    "content_auxiliar[\"Runtime\"].replace(' min', \"\", regex=True, inplace=True)\n",
    "mask = content_auxiliar.Runtime.str.contains('h', na=False)\n",
    "content_auxiliar.loc[mask, \"Runtime\"] = content_auxiliar.loc[mask, \"Runtime\"].str.split(\"h\").apply(lambda x: str(int(x[0]) * 60 + int(x[1])))"
   ]
  },
  {
   "cell_type": "code",
   "execution_count": 20,
   "metadata": {},
   "outputs": [],
   "source": [
    "columns_to_float = ['Runtime', 'Internet Movie Database', 'Metacritic',\n",
    "                    'Rotten Tomatoes', \"imdbVotes\", \"BoxOffice\",\n",
    "                    \"totalSeasons\", \"imdbRating\", \"Metascore\"]  # Falta tartar Awards\n",
    "content_auxiliar[columns_to_float] = content_auxiliar[columns_to_float].astype(float)"
   ]
  },
  {
   "cell_type": "code",
   "execution_count": null,
   "metadata": {},
   "outputs": [
    {
     "data": {
      "text/plain": [
       "0        5.5\n",
       "1        6.9\n",
       "2        7.5\n",
       "3        4.2\n",
       "4        6.7\n",
       "        ... \n",
       "38007    6.2\n",
       "38008    6.3\n",
       "38009    7.2\n",
       "38010    NaN\n",
       "38011    NaN\n",
       "Name: Internet Movie Database, Length: 38012, dtype: float64"
      ]
     },
     "execution_count": 21,
     "metadata": {},
     "output_type": "execute_result"
    }
   ],
   "source": [
    "content_auxiliar[\"Internet Movie Database\"]"
   ]
  },
  {
   "cell_type": "code",
   "execution_count": 22,
   "metadata": {},
   "outputs": [
    {
     "data": {
      "text/html": [
       "<div>\n",
       "<style scoped>\n",
       "    .dataframe tbody tr th:only-of-type {\n",
       "        vertical-align: middle;\n",
       "    }\n",
       "\n",
       "    .dataframe tbody tr th {\n",
       "        vertical-align: top;\n",
       "    }\n",
       "\n",
       "    .dataframe thead th {\n",
       "        text-align: right;\n",
       "    }\n",
       "</style>\n",
       "<table border=\"1\" class=\"dataframe\">\n",
       "  <thead>\n",
       "    <tr style=\"text-align: right;\">\n",
       "      <th></th>\n",
       "      <th>ItemId</th>\n",
       "      <th>Title</th>\n",
       "      <th>Year</th>\n",
       "      <th>Rated</th>\n",
       "      <th>Released</th>\n",
       "      <th>Runtime</th>\n",
       "      <th>Genre</th>\n",
       "      <th>Director</th>\n",
       "      <th>Writer</th>\n",
       "      <th>Actors</th>\n",
       "      <th>Plot</th>\n",
       "      <th>Language</th>\n",
       "      <th>Country</th>\n",
       "      <th>Awards</th>\n",
       "      <th>Metascore</th>\n",
       "      <th>imdbRating</th>\n",
       "      <th>imdbVotes</th>\n",
       "      <th>Type</th>\n",
       "      <th>DVD</th>\n",
       "      <th>BoxOffice</th>\n",
       "      <th>Production</th>\n",
       "      <th>totalSeasons</th>\n",
       "      <th>Internet Movie Database</th>\n",
       "      <th>Metacritic</th>\n",
       "      <th>Rotten Tomatoes</th>\n",
       "    </tr>\n",
       "  </thead>\n",
       "  <tbody>\n",
       "    <tr>\n",
       "      <th>0</th>\n",
       "      <td>c9f0f895fb</td>\n",
       "      <td>Edison Kinetoscopic Record of a Sneeze</td>\n",
       "      <td>1894</td>\n",
       "      <td>None</td>\n",
       "      <td>09 Jan 1894</td>\n",
       "      <td>1.0</td>\n",
       "      <td>Documentary, Short</td>\n",
       "      <td>William K.L. Dickson</td>\n",
       "      <td>None</td>\n",
       "      <td>Fred Ott</td>\n",
       "      <td>A man (Edison's assistant) takes a pinch of sn...</td>\n",
       "      <td>None</td>\n",
       "      <td>United States</td>\n",
       "      <td>1 win</td>\n",
       "      <td>NaN</td>\n",
       "      <td>5.5</td>\n",
       "      <td>1980.0</td>\n",
       "      <td>movie</td>\n",
       "      <td>None</td>\n",
       "      <td>NaN</td>\n",
       "      <td>None</td>\n",
       "      <td>NaN</td>\n",
       "      <td>5.5</td>\n",
       "      <td>NaN</td>\n",
       "      <td>NaN</td>\n",
       "    </tr>\n",
       "    <tr>\n",
       "      <th>1</th>\n",
       "      <td>d3d9446802</td>\n",
       "      <td>Leaving the Factory</td>\n",
       "      <td>1895</td>\n",
       "      <td>None</td>\n",
       "      <td>22 Mar 1895</td>\n",
       "      <td>1.0</td>\n",
       "      <td>Documentary, Short</td>\n",
       "      <td>Louis Lumière</td>\n",
       "      <td>None</td>\n",
       "      <td>None</td>\n",
       "      <td>A man opens the big gates to the Lumière facto...</td>\n",
       "      <td>None</td>\n",
       "      <td>France</td>\n",
       "      <td>None</td>\n",
       "      <td>NaN</td>\n",
       "      <td>6.9</td>\n",
       "      <td>6633.0</td>\n",
       "      <td>movie</td>\n",
       "      <td>None</td>\n",
       "      <td>NaN</td>\n",
       "      <td>None</td>\n",
       "      <td>NaN</td>\n",
       "      <td>6.9</td>\n",
       "      <td>NaN</td>\n",
       "      <td>NaN</td>\n",
       "    </tr>\n",
       "    <tr>\n",
       "      <th>2</th>\n",
       "      <td>c20ad4d76f</td>\n",
       "      <td>The Arrival of a Train</td>\n",
       "      <td>1896</td>\n",
       "      <td>None</td>\n",
       "      <td>25 Jan 1896</td>\n",
       "      <td>1.0</td>\n",
       "      <td>Documentary, Short</td>\n",
       "      <td>Auguste Lumière, Louis Lumière</td>\n",
       "      <td>None</td>\n",
       "      <td>Madeleine Koehler, Marcel Koehler, Mrs. August...</td>\n",
       "      <td>A group of people are standing in a straight l...</td>\n",
       "      <td>None</td>\n",
       "      <td>France</td>\n",
       "      <td>None</td>\n",
       "      <td>NaN</td>\n",
       "      <td>7.5</td>\n",
       "      <td>11407.0</td>\n",
       "      <td>movie</td>\n",
       "      <td>None</td>\n",
       "      <td>NaN</td>\n",
       "      <td>None</td>\n",
       "      <td>NaN</td>\n",
       "      <td>7.5</td>\n",
       "      <td>NaN</td>\n",
       "      <td>NaN</td>\n",
       "    </tr>\n",
       "    <tr>\n",
       "      <th>3</th>\n",
       "      <td>8e296a067a</td>\n",
       "      <td>The Oxford and Cambridge University Boat Race</td>\n",
       "      <td>1895</td>\n",
       "      <td>None</td>\n",
       "      <td>None</td>\n",
       "      <td>NaN</td>\n",
       "      <td>Short, News, Sport</td>\n",
       "      <td>Birt Acres</td>\n",
       "      <td>None</td>\n",
       "      <td>None</td>\n",
       "      <td>Although the content of this film is primitive...</td>\n",
       "      <td>None</td>\n",
       "      <td>United Kingdom</td>\n",
       "      <td>None</td>\n",
       "      <td>NaN</td>\n",
       "      <td>4.2</td>\n",
       "      <td>39.0</td>\n",
       "      <td>movie</td>\n",
       "      <td>None</td>\n",
       "      <td>NaN</td>\n",
       "      <td>None</td>\n",
       "      <td>NaN</td>\n",
       "      <td>4.2</td>\n",
       "      <td>NaN</td>\n",
       "      <td>NaN</td>\n",
       "    </tr>\n",
       "    <tr>\n",
       "      <th>4</th>\n",
       "      <td>54229abfcf</td>\n",
       "      <td>The House of the Devil</td>\n",
       "      <td>1896</td>\n",
       "      <td>None</td>\n",
       "      <td>24 Dec 1896</td>\n",
       "      <td>3.0</td>\n",
       "      <td>Short, Horror</td>\n",
       "      <td>Georges Méliès</td>\n",
       "      <td>Georges Méliès</td>\n",
       "      <td>Jehanne d'Alcy, Jules-Eugène Legris, Georges M...</td>\n",
       "      <td>A bat flies into an ancient castle and transfo...</td>\n",
       "      <td>None</td>\n",
       "      <td>France</td>\n",
       "      <td>None</td>\n",
       "      <td>NaN</td>\n",
       "      <td>6.7</td>\n",
       "      <td>3268.0</td>\n",
       "      <td>movie</td>\n",
       "      <td>None</td>\n",
       "      <td>NaN</td>\n",
       "      <td>None</td>\n",
       "      <td>NaN</td>\n",
       "      <td>6.7</td>\n",
       "      <td>NaN</td>\n",
       "      <td>NaN</td>\n",
       "    </tr>\n",
       "  </tbody>\n",
       "</table>\n",
       "</div>"
      ],
      "text/plain": [
       "       ItemId                                          Title  Year Rated  \\\n",
       "0  c9f0f895fb         Edison Kinetoscopic Record of a Sneeze  1894  None   \n",
       "1  d3d9446802                            Leaving the Factory  1895  None   \n",
       "2  c20ad4d76f                         The Arrival of a Train  1896  None   \n",
       "3  8e296a067a  The Oxford and Cambridge University Boat Race  1895  None   \n",
       "4  54229abfcf                         The House of the Devil  1896  None   \n",
       "\n",
       "      Released  Runtime               Genre                        Director  \\\n",
       "0  09 Jan 1894      1.0  Documentary, Short            William K.L. Dickson   \n",
       "1  22 Mar 1895      1.0  Documentary, Short                   Louis Lumière   \n",
       "2  25 Jan 1896      1.0  Documentary, Short  Auguste Lumière, Louis Lumière   \n",
       "3         None      NaN  Short, News, Sport                      Birt Acres   \n",
       "4  24 Dec 1896      3.0       Short, Horror                  Georges Méliès   \n",
       "\n",
       "           Writer                                             Actors  \\\n",
       "0            None                                           Fred Ott   \n",
       "1            None                                               None   \n",
       "2            None  Madeleine Koehler, Marcel Koehler, Mrs. August...   \n",
       "3            None                                               None   \n",
       "4  Georges Méliès  Jehanne d'Alcy, Jules-Eugène Legris, Georges M...   \n",
       "\n",
       "                                                Plot Language         Country  \\\n",
       "0  A man (Edison's assistant) takes a pinch of sn...     None   United States   \n",
       "1  A man opens the big gates to the Lumière facto...     None          France   \n",
       "2  A group of people are standing in a straight l...     None          France   \n",
       "3  Although the content of this film is primitive...     None  United Kingdom   \n",
       "4  A bat flies into an ancient castle and transfo...     None          France   \n",
       "\n",
       "  Awards  Metascore  imdbRating  imdbVotes   Type   DVD  BoxOffice Production  \\\n",
       "0  1 win        NaN         5.5     1980.0  movie  None        NaN       None   \n",
       "1   None        NaN         6.9     6633.0  movie  None        NaN       None   \n",
       "2   None        NaN         7.5    11407.0  movie  None        NaN       None   \n",
       "3   None        NaN         4.2       39.0  movie  None        NaN       None   \n",
       "4   None        NaN         6.7     3268.0  movie  None        NaN       None   \n",
       "\n",
       "   totalSeasons  Internet Movie Database  Metacritic  Rotten Tomatoes  \n",
       "0           NaN                      5.5         NaN              NaN  \n",
       "1           NaN                      6.9         NaN              NaN  \n",
       "2           NaN                      7.5         NaN              NaN  \n",
       "3           NaN                      4.2         NaN              NaN  \n",
       "4           NaN                      6.7         NaN              NaN  "
      ]
     },
     "execution_count": 22,
     "metadata": {},
     "output_type": "execute_result"
    }
   ],
   "source": [
    "content_auxiliar.head()"
   ]
  },
  {
   "cell_type": "code",
   "execution_count": 23,
   "metadata": {},
   "outputs": [],
   "source": [
    "variaveis_textos = [\"Title\", \"Plot\"]\n",
    "variaveis_categoricas = [\"Rated\", \"Director\", \"Production\"] # variaveis para tratar \"Language\", Writer, Actors, Country\n",
    "variaveis_data = [\"Released\", \"Year\", \"DVD\"] # Todas faltam tratar "
   ]
  },
  {
   "cell_type": "code",
   "execution_count": 24,
   "metadata": {},
   "outputs": [
    {
     "data": {
      "text/html": [
       "<div>\n",
       "<style scoped>\n",
       "    .dataframe tbody tr th:only-of-type {\n",
       "        vertical-align: middle;\n",
       "    }\n",
       "\n",
       "    .dataframe tbody tr th {\n",
       "        vertical-align: top;\n",
       "    }\n",
       "\n",
       "    .dataframe thead th {\n",
       "        text-align: right;\n",
       "    }\n",
       "</style>\n",
       "<table border=\"1\" class=\"dataframe\">\n",
       "  <thead>\n",
       "    <tr style=\"text-align: right;\">\n",
       "      <th></th>\n",
       "      <th>ItemId</th>\n",
       "      <th>Year</th>\n",
       "      <th>Released</th>\n",
       "      <th>Genre</th>\n",
       "      <th>Writer</th>\n",
       "      <th>Actors</th>\n",
       "      <th>Language</th>\n",
       "      <th>Country</th>\n",
       "      <th>Awards</th>\n",
       "      <th>Type</th>\n",
       "      <th>DVD</th>\n",
       "    </tr>\n",
       "  </thead>\n",
       "  <tbody>\n",
       "    <tr>\n",
       "      <th>0</th>\n",
       "      <td>c9f0f895fb</td>\n",
       "      <td>1894</td>\n",
       "      <td>09 Jan 1894</td>\n",
       "      <td>Documentary, Short</td>\n",
       "      <td>None</td>\n",
       "      <td>Fred Ott</td>\n",
       "      <td>None</td>\n",
       "      <td>United States</td>\n",
       "      <td>1 win</td>\n",
       "      <td>movie</td>\n",
       "      <td>None</td>\n",
       "    </tr>\n",
       "    <tr>\n",
       "      <th>1</th>\n",
       "      <td>d3d9446802</td>\n",
       "      <td>1895</td>\n",
       "      <td>22 Mar 1895</td>\n",
       "      <td>Documentary, Short</td>\n",
       "      <td>None</td>\n",
       "      <td>None</td>\n",
       "      <td>None</td>\n",
       "      <td>France</td>\n",
       "      <td>None</td>\n",
       "      <td>movie</td>\n",
       "      <td>None</td>\n",
       "    </tr>\n",
       "  </tbody>\n",
       "</table>\n",
       "</div>"
      ],
      "text/plain": [
       "       ItemId  Year     Released               Genre Writer    Actors  \\\n",
       "0  c9f0f895fb  1894  09 Jan 1894  Documentary, Short   None  Fred Ott   \n",
       "1  d3d9446802  1895  22 Mar 1895  Documentary, Short   None      None   \n",
       "\n",
       "  Language        Country Awards   Type   DVD  \n",
       "0     None  United States  1 win  movie  None  \n",
       "1     None         France   None  movie  None  "
      ]
     },
     "execution_count": 24,
     "metadata": {},
     "output_type": "execute_result"
    }
   ],
   "source": [
    "content_auxiliar.drop(columns=columns_to_float+variaveis_textos+variaveis_categoricas).head(2)"
   ]
  },
  {
   "cell_type": "code",
   "execution_count": 25,
   "metadata": {},
   "outputs": [],
   "source": [
    "content_to_train = content_auxiliar[[\"ItemId\"] + columns_to_float + variaveis_categoricas]"
   ]
  },
  {
   "cell_type": "code",
   "execution_count": 26,
   "metadata": {},
   "outputs": [],
   "source": [
    "# transforma as colunas em numericas: Runtime\n",
    "\n",
    "# usar o catboost para categoria e para suportar NA...\n",
    "# transformar em categorias... Genre, Director, Writer, Actors, Language, Country, Type, Production\n",
    "\n",
    "# Year transformar em anos ate 2025\n",
    "# Released, DVD transformar em dias ate 2025"
   ]
  },
  {
   "cell_type": "markdown",
   "metadata": {},
   "source": [
    "## Train model"
   ]
  },
  {
   "cell_type": "markdown",
   "metadata": {},
   "source": [
    "### Lightfm"
   ]
  },
  {
   "cell_type": "code",
   "execution_count": 27,
   "metadata": {},
   "outputs": [],
   "source": [
    "from lightfm.data import Dataset\n",
    "from lightfm import LightFM"
   ]
  },
  {
   "cell_type": "code",
   "execution_count": 28,
   "metadata": {},
   "outputs": [
    {
     "name": "stderr",
     "output_type": "stream",
     "text": [
      "/tmp/ipykernel_241603/2489804412.py:1: SettingWithCopyWarning: \n",
      "A value is trying to be set on a copy of a slice from a DataFrame.\n",
      "Try using .loc[row_indexer,col_indexer] = value instead\n",
      "\n",
      "See the caveats in the documentation: https://pandas.pydata.org/pandas-docs/stable/user_guide/indexing.html#returning-a-view-versus-a-copy\n",
      "  content_to_train[columns_to_float] = content_to_train[columns_to_float].fillna(-1)\n",
      "/tmp/ipykernel_241603/2489804412.py:2: SettingWithCopyWarning: \n",
      "A value is trying to be set on a copy of a slice from a DataFrame.\n",
      "Try using .loc[row_indexer,col_indexer] = value instead\n",
      "\n",
      "See the caveats in the documentation: https://pandas.pydata.org/pandas-docs/stable/user_guide/indexing.html#returning-a-view-versus-a-copy\n",
      "  content_to_train[variaveis_categoricas] = content_to_train[variaveis_categoricas].fillna(\"unknown\")\n"
     ]
    }
   ],
   "source": [
    "content_to_train[columns_to_float] = content_to_train[columns_to_float].fillna(-1)\n",
    "content_to_train[variaveis_categoricas] = content_to_train[variaveis_categoricas].fillna(\"unknown\")"
   ]
  },
  {
   "cell_type": "code",
   "execution_count": 29,
   "metadata": {},
   "outputs": [],
   "source": [
    "dataset = Dataset()\n",
    "\n",
    "# Include all unique item IDs from both ratings and content datasets\n",
    "all_item_ids = list(set(ratings['ItemId'].unique()).union(content_auxiliar['ItemId'].unique()))\n",
    "all_item_ids.sort()"
   ]
  },
  {
   "cell_type": "code",
   "execution_count": 30,
   "metadata": {},
   "outputs": [
    {
     "data": {
      "text/plain": [
       "True"
      ]
     },
     "execution_count": 30,
     "metadata": {},
     "output_type": "execute_result"
    }
   ],
   "source": [
    "content_to_train = content_to_train.sort_values(\"ItemId\", ignore_index=True)\n",
    "\n",
    "# Verifia se todos os itens estao iguais\n",
    "content_to_train.ItemId.unique().tolist() == all_item_ids"
   ]
  },
  {
   "cell_type": "code",
   "execution_count": 31,
   "metadata": {},
   "outputs": [],
   "source": [
    "# item_features = set()\n",
    "# for column in content_to_train.drop(columns=[\"ItemId\"]).columns:\n",
    "#     item_features.update(content_to_train[column].unique())"
   ]
  },
  {
   "cell_type": "code",
   "execution_count": 32,
   "metadata": {},
   "outputs": [],
   "source": [
    "item_features = set()\n",
    "for index, row in content_to_train.drop(columns=[\"ItemId\"]).iterrows():\n",
    "    item_features.update(row.values)"
   ]
  },
  {
   "cell_type": "code",
   "execution_count": 33,
   "metadata": {},
   "outputs": [],
   "source": [
    "# Fit the dataset with all user and item IDs\n",
    "dataset.fit(users=ratings['UserId'].unique(),\n",
    "            items=list(all_item_ids),\n",
    "            item_features=item_features) # content_to_train.drop(columns=\"ItemId\"))\n"
   ]
  },
  {
   "cell_type": "code",
   "execution_count": 34,
   "metadata": {},
   "outputs": [],
   "source": [
    "features_columns = content_to_train.columns.to_list()\n",
    "features_columns.pop(0)\n",
    "item_features_data = []\n",
    "for index, row in content_to_train.iterrows():\n",
    "    item_features_data.append((row[\"ItemId\"], row[features_columns].values.tolist()))"
   ]
  },
  {
   "cell_type": "code",
   "execution_count": 35,
   "metadata": {},
   "outputs": [],
   "source": [
    "# item_features_data = [i for i in zip(content_to_train.ItemId,\n",
    "#                                      content_to_train.drop(columns=\"ItemId\").values.tolist())]"
   ]
  },
  {
   "cell_type": "code",
   "execution_count": 36,
   "metadata": {},
   "outputs": [],
   "source": [
    "item_features_matrix = dataset.build_item_features(item_features_data, normalize=True)"
   ]
  },
  {
   "cell_type": "code",
   "execution_count": 37,
   "metadata": {},
   "outputs": [],
   "source": [
    "(interactions, _) = dataset.build_interactions(\n",
    "    [(row['UserId'], row['ItemId'], row['Rating']) for _, row in ratings.iterrows()]\n",
    ")"
   ]
  },
  {
   "cell_type": "code",
   "execution_count": 38,
   "metadata": {},
   "outputs": [],
   "source": [
    "from lightfm import LightFM\n",
    "from os import cpu_count"
   ]
  },
  {
   "cell_type": "code",
   "execution_count": 39,
   "metadata": {},
   "outputs": [
    {
     "name": "stderr",
     "output_type": "stream",
     "text": [
      "Epoch: 100%|██████████| 100/100 [01:30<00:00,  1.11it/s]\n"
     ]
    },
    {
     "data": {
      "text/plain": [
       "<lightfm.lightfm.LightFM at 0x7f75496697c0>"
      ]
     },
     "execution_count": 39,
     "metadata": {},
     "output_type": "execute_result"
    }
   ],
   "source": [
    "model = LightFM(loss='warp')\n",
    "model.fit(interactions, item_features=item_features_matrix, epochs=100, num_threads=cpu_count(), verbose=True)"
   ]
  },
  {
   "cell_type": "code",
   "execution_count": 56,
   "metadata": {},
   "outputs": [],
   "source": [
    "import dill\n",
    "\n",
    "def save_object(obj, filename):\n",
    "    with open(filename, 'wb') as file:\n",
    "        dill.dump(obj, file)\n",
    "\n",
    "def load_object(filename):\n",
    "    with open(filename, 'rb') as file:\n",
    "        return dill.load(file)"
   ]
  },
  {
   "cell_type": "code",
   "execution_count": 57,
   "metadata": {},
   "outputs": [],
   "source": [
    "save_object(model, \"LightFM_epochs=500.dill\")"
   ]
  },
  {
   "cell_type": "code",
   "execution_count": 42,
   "metadata": {},
   "outputs": [],
   "source": [
    "user_id_map, user_feature_map, item_id_map, item_feature_map = dataset.mapping()"
   ]
  },
  {
   "cell_type": "code",
   "execution_count": null,
   "metadata": {},
   "outputs": [],
   "source": [
    "targets.UserId.map(user_id_map.get)\n",
    "targets.ItemId.map(item_id_map.get)"
   ]
  },
  {
   "cell_type": "code",
   "execution_count": 44,
   "metadata": {},
   "outputs": [],
   "source": [
    "target_prediction = targets.copy()"
   ]
  },
  {
   "cell_type": "code",
   "execution_count": 48,
   "metadata": {},
   "outputs": [],
   "source": [
    "target_prediction[\"Rating\"] = model.predict(targets.UserId.map(user_id_map.get).values,\n",
    "                                            targets.ItemId.map(item_id_map.get).values,\n",
    "                                            item_features=item_features_matrix,\n",
    "                                            num_threads=cpu_count())"
   ]
  },
  {
   "cell_type": "code",
   "execution_count": null,
   "metadata": {},
   "outputs": [],
   "source": [
    "# df = target_prediction.merge(content[[\"ItemId\", \"imdbRating\", \"BoxOffice\", \"Metascore\",  \"imdbVotes\"]], on=\"ItemId\")"
   ]
  },
  {
   "cell_type": "code",
   "execution_count": null,
   "metadata": {},
   "outputs": [],
   "source": [
    "# 'Internet Movie Database'\n",
    "# 'Metacritic'\n",
    "# 'Rotten Tomatoes'"
   ]
  },
  {
   "cell_type": "code",
   "execution_count": null,
   "metadata": {},
   "outputs": [],
   "source": [
    "content_to_train['imdbVotes']"
   ]
  },
  {
   "cell_type": "markdown",
   "metadata": {},
   "source": [
    "### Catboost"
   ]
  },
  {
   "cell_type": "code",
   "execution_count": 25,
   "metadata": {},
   "outputs": [],
   "source": [
    "from catboost import Pool, CatBoostRegressor"
   ]
  },
  {
   "cell_type": "code",
   "execution_count": 27,
   "metadata": {},
   "outputs": [],
   "source": [
    "train_data = ratings[[\"UserId\", \"ItemId\", \"Rating\"]].merge(content_auxiliar[[\"ItemId\"] + columns_to_float + variaveis_categoricas], on=\"ItemId\")\n",
    "train_data.set_index([\"UserId\", \"ItemId\"], inplace=True)"
   ]
  },
  {
   "cell_type": "code",
   "execution_count": 30,
   "metadata": {},
   "outputs": [],
   "source": [
    "target = \"Rating\""
   ]
  },
  {
   "cell_type": "code",
   "execution_count": 31,
   "metadata": {},
   "outputs": [],
   "source": [
    "model = CatBoostRegressor(\n",
    "    iterations=1000,\n",
    "    task_type=\"GPU\",    \n",
    "    devices='0',\n",
    "    cat_features=variaveis_categoricas\n",
    "\n",
    ")"
   ]
  },
  {
   "cell_type": "code",
   "execution_count": null,
   "metadata": {},
   "outputs": [],
   "source": [
    "model.fit(train_data.drop(columns=target),\n",
    "          train_data[target],\n",
    "          verbose=True)"
   ]
  },
  {
   "cell_type": "markdown",
   "metadata": {},
   "source": [
    "#### Preve para os dados de teste"
   ]
  },
  {
   "cell_type": "code",
   "execution_count": null,
   "metadata": {},
   "outputs": [],
   "source": [
    "test_data = targets.merge(content_auxiliar[[\"ItemId\"] + columns_to_float + variaveis_categoricas], on=\"ItemId\")\n",
    "test_data.set_index([\"UserId\", \"ItemId\"], inplace=True)"
   ]
  },
  {
   "cell_type": "code",
   "execution_count": 44,
   "metadata": {},
   "outputs": [],
   "source": [
    "previsao_test = model.predict(test_data)"
   ]
  },
  {
   "cell_type": "code",
   "execution_count": 51,
   "metadata": {},
   "outputs": [],
   "source": [
    "target_prediction = test_data.reset_index()[[\"UserId\", \"ItemId\"]]"
   ]
  },
  {
   "cell_type": "code",
   "execution_count": 52,
   "metadata": {},
   "outputs": [],
   "source": [
    "target_prediction[\"Rating\"] = previsao_test"
   ]
  },
  {
   "cell_type": "markdown",
   "metadata": {},
   "source": [
    "### Salva a previsao"
   ]
  },
  {
   "cell_type": "code",
   "execution_count": 49,
   "metadata": {},
   "outputs": [],
   "source": [
    "target_prediction = target_prediction.sort_values([\"UserId\", \"Rating\"], ascending=[True, False])"
   ]
  },
  {
   "cell_type": "code",
   "execution_count": 50,
   "metadata": {},
   "outputs": [],
   "source": [
    "# target_prediction.to_csv(\"submissoes/catboost_versao_1.csv\", index=False)\n",
    "target_prediction.to_csv(\"submissoes/lightfm_versao_2.1.csv\", index=False)"
   ]
  },
  {
   "cell_type": "code",
   "execution_count": 51,
   "metadata": {},
   "outputs": [],
   "source": [
    "target_prediction = target_prediction.drop(columns=\"Rating\")"
   ]
  },
  {
   "cell_type": "code",
   "execution_count": 52,
   "metadata": {},
   "outputs": [],
   "source": [
    "# target_prediction.to_csv(\"submissoes/catboost_versao_1_sem_rating.csv\", index=False)\n",
    "target_prediction.to_csv(\"submissoes/lightfm_versao_2.1_sem_rating.csv\", index=False)"
   ]
  },
  {
   "cell_type": "code",
   "execution_count": null,
   "metadata": {},
   "outputs": [],
   "source": []
  }
 ],
 "metadata": {
  "kernelspec": {
   "display_name": "sistema_recomendacao_tp2_versao3",
   "language": "python",
   "name": "python3"
  },
  "language_info": {
   "codemirror_mode": {
    "name": "ipython",
    "version": 3
   },
   "file_extension": ".py",
   "mimetype": "text/x-python",
   "name": "python",
   "nbconvert_exporter": "python",
   "pygments_lexer": "ipython3",
   "version": "3.9.18"
  }
 },
 "nbformat": 4,
 "nbformat_minor": 2
}
