{
 "cells": [
  {
   "cell_type": "code",
   "execution_count": 2,
   "metadata": {},
   "outputs": [],
   "source": [
    "import json\n",
    "import pandas as pd\n",
    "import numpy as np\n",
    "from sklearn.feature_extraction.text import TfidfVectorizer\n",
    "from sklearn.metrics.pairwise import cosine_similarity\n",
    "from cornac.models import UserKNN\n",
    "from cornac.eval_methods import RatioSplit\n",
    "from cornac.metrics import AUC, Recall, Precision\n",
    "import scipy.sparse as sp"
   ]
  },
  {
   "cell_type": "code",
   "execution_count": 3,
   "metadata": {},
   "outputs": [],
   "source": [
    "# Load data\n",
    "def load_data(ratings_path, content_path, targets_path):\n",
    "    ratings = pd.read_json(ratings_path, lines=True)\n",
    "    content = pd.read_json(content_path, lines=True)\n",
    "    targets = pd.read_csv(targets_path)\n",
    "    return ratings, content, targets\n",
    "\n",
    "ratings, content, targets = load_data('data/ratings.jsonl', 'data/content.jsonl', 'data/targets.csv')"
   ]
  },
  {
   "cell_type": "code",
   "execution_count": 4,
   "metadata": {},
   "outputs": [],
   "source": [
    "# Preprocessing content data\n",
    "content['Genre'] = content['Genre'].apply(lambda x: x.split(',') if isinstance(x, str) else [])\n",
    "content['Director'] = content['Director'].apply(lambda x: x.split(',') if isinstance(x, str) else [])\n",
    "content['Actors'] = content['Actors'].apply(lambda x: x.split(',') if isinstance(x, str) else [])\n",
    "content['combined_features'] = content['Genre'].apply(lambda x: ' '.join(x)) + ' ' + \\\n",
    "                                content['Director'].apply(lambda x: ' '.join(x)) + ' ' + \\\n",
    "                                content['Actors'].apply(lambda x: ' '.join(x)) + ' ' + \\\n",
    "                                content['Plot'].fillna('')"
   ]
  },
  {
   "cell_type": "code",
   "execution_count": 5,
   "metadata": {},
   "outputs": [],
   "source": [
    "# TF-IDF Vectorization\n",
    "tfidf = TfidfVectorizer(stop_words='english')\n",
    "tfidf_matrix = tfidf.fit_transform(content['combined_features'])"
   ]
  },
  {
   "cell_type": "code",
   "execution_count": null,
   "metadata": {},
   "outputs": [],
   "source": [
    "# Create item-item similarity matrix\n",
    "def calculate_item_similarity(item_id, tfidf_matrix, content):\n",
    "    try:\n",
    "        item_index = content[content['ItemId'] == item_id].index[0]\n",
    "        item_vector = tfidf_matrix[item_index]\n",
    "        similarities = cosine_similarity(item_vector, tfidf_matrix).flatten()\n",
    "        similar_items = pd.Series(similarities, index=content['ItemId'])\n",
    "        return similar_items\n",
    "    except IndexError:\n",
    "        return pd.Series(0, index=content['ItemId']) # Return 0s if item not in content\n"
   ]
  },
  {
   "cell_type": "code",
   "execution_count": 7,
   "metadata": {},
   "outputs": [],
   "source": [
    "#Cornac Model\n",
    "ratings['UserId'] = ratings['UserId'].astype(str)\n",
    "ratings['ItemId'] = ratings['ItemId'].astype(str)"
   ]
  },
  {
   "cell_type": "code",
   "execution_count": null,
   "metadata": {},
   "outputs": [],
   "source": [
    "# Create user-item interaction matrix\n",
    "uir_df = ratings[['UserId', 'ItemId', 'Rating']]\n",
    "uir_df = uir_df.pivot_table(index='UserId', columns='ItemId', values='Rating').fillna(0)\n",
    "uir_matrix = sp.csr_matrix(uir_df.values)"
   ]
  },
  {
   "cell_type": "code",
   "execution_count": null,
   "metadata": {},
   "outputs": [],
   "source": [
    "for user_id in targets['UserId'].unique():\n",
    "    user_targets = targets[targets['UserId'] == user_id]['ItemId'].tolist()\n",
    "    content_predictions = {}\n",
    "    for item_id in user_targets:\n",
    "      similar_items = calculate_item_similarity(item_id, tfidf_matrix, content)\n",
    "      if not similar_items.empty:\n",
    "        content_predictions[item_id] = similar_items.mean()\n",
    "      else:\n",
    "        content_predictions[item_id] = 0"
   ]
  }
 ],
 "metadata": {
  "kernelspec": {
   "display_name": "Python 3",
   "language": "python",
   "name": "python3"
  },
  "language_info": {
   "codemirror_mode": {
    "name": "ipython",
    "version": 3
   },
   "file_extension": ".py",
   "mimetype": "text/x-python",
   "name": "python",
   "nbconvert_exporter": "python",
   "pygments_lexer": "ipython3",
   "version": "3.10.4"
  }
 },
 "nbformat": 4,
 "nbformat_minor": 2
}
